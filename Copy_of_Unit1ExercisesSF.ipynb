{
  "nbformat": 4,
  "nbformat_minor": 0,
  "metadata": {
    "colab": {
      "provenance": [],
      "include_colab_link": true
    },
    "kernelspec": {
      "name": "python3",
      "display_name": "Python 3"
    },
    "language_info": {
      "name": "python"
    }
  },
  "cells": [
    {
      "cell_type": "markdown",
      "metadata": {
        "id": "view-in-github",
        "colab_type": "text"
      },
      "source": [
        "<a href=\"https://colab.research.google.com/github/finfrierson/data-science-fundamentals/blob/main/Copy_of_Unit1ExercisesSF.ipynb\" target=\"_parent\"><img src=\"https://colab.research.google.com/assets/colab-badge.svg\" alt=\"Open In Colab\"/></a>"
      ]
    },
    {
      "cell_type": "markdown",
      "source": [
        "# Unit 1 Exercises: Data Structure Concepts\n",
        "\n",
        "The following questions will ask you to describe the various objects we learned about in the first Unit.\n",
        "\n",
        "I'm not giving you coding exercises, because we will learn all the coding technqiues we need as we move through the course.\n",
        "\n",
        "What I do need from you right now, is a conceptual understanding how how data is stored in our computer, when we use python."
      ],
      "metadata": {
        "id": "65OCktLjbZmA"
      }
    },
    {
      "cell_type": "markdown",
      "source": [
        "**Task1**:\n",
        "\n",
        "Describe the similarities and differences between an int and a float in python."
      ],
      "metadata": {
        "id": "bt0bWe1evLtv"
      }
    },
    {
      "cell_type": "markdown",
      "source": [],
      "metadata": {
        "id": "Sh5Sa8vJLE_b"
      }
    },
    {
      "cell_type": "code",
      "source": [],
      "metadata": {
        "id": "T4gAtMQpLEoL"
      },
      "execution_count": null,
      "outputs": []
    },
    {
      "cell_type": "markdown",
      "source": [
        "**Answer1**:\n",
        "\n",
        "Both represent a numerical value, but ints only alow for a whole number, while floats can be numbers with a decimal value"
      ],
      "metadata": {
        "id": "FW3KHt4yvt90"
      }
    },
    {
      "cell_type": "markdown",
      "source": [
        "**Task2**:\n",
        "\n",
        "Describe the similarities and differences between: strings, lists, and dicts."
      ],
      "metadata": {
        "id": "mJ_i6he5wwgr"
      }
    },
    {
      "cell_type": "markdown",
      "source": [
        "**Answer2**:\n",
        "\n",
        "Strings, lists, and dicts all hold values, strings are one value, while lists and dicts both allow for holding multiple values. Lists you access by number in the list, and dicts you access from their index."
      ],
      "metadata": {
        "id": "iFu5BKyWw98T"
      }
    },
    {
      "cell_type": "markdown",
      "source": [
        "**Task3**:\n",
        "\n",
        "What is a numpy array? Why would we ever use one over a list or dict?"
      ],
      "metadata": {
        "id": "56v05s45yBHk"
      }
    },
    {
      "cell_type": "markdown",
      "source": [
        "**Answer3**:\n",
        "\n",
        "A numpy array stores multiple values like lists or dicts, but unlike them, they convert all values to the same type of data. This ensures that when you use the data it will always be stored as the same data type. Additionally you can multiply with arrays, do matrix multiplication, and have numbers appear in scientific notation"
      ],
      "metadata": {
        "id": "eikgxyNzyLTY"
      }
    },
    {
      "cell_type": "markdown",
      "source": [
        "**Task4**:\n",
        "\n",
        "What is a pandas dataframe? Why would we ever want to use one over a numpy array?"
      ],
      "metadata": {
        "id": "RLaEQ5irywBl"
      }
    },
    {
      "cell_type": "markdown",
      "source": [
        "**Answer4**:\n",
        "\n",
        "Pandas dataframes are a visual representation of data as a table. This makes the data more clear to access, and allows you to get specific collumns/rows easily."
      ],
      "metadata": {
        "id": "5IkNlzYpy-HP"
      }
    },
    {
      "cell_type": "markdown",
      "source": [
        "**Task5**:\n",
        "\n",
        "What are for loops, and why would we ever use them?"
      ],
      "metadata": {
        "id": "khRn2d7qz1Y2"
      }
    },
    {
      "cell_type": "markdown",
      "source": [
        "**Answer5**:\n",
        "\n",
        "For loops will repeat the code in them on a certain number of times depending on the given thing, as an example: for num in range (0,10). This would be used when we want to repeat a chunk of code for a certain number of times, or for multiple items in a list, etc."
      ],
      "metadata": {
        "id": "NAdVfRZB1d9J"
      }
    }
  ]
}